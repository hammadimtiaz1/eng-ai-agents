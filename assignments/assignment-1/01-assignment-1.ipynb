import torch
import matplotlib.pyplot as plt

# Set random seed for reproducibility
torch.manual_seed(42)

# Define means and covariance matrices for two distributions
mean_A = torch.tensor([-0.5, -0.5])
cov_A = torch.tensor([[1.0, 0.25], [0.25, 1.0]])

mean_B = torch.tensor([0.5, 0.5])
cov_B = torch.tensor([[1.0, 0.25], [0.25, 1.0]])

# Generate 1000 samples from a multivariate normal distribution
dist_A = torch.distributions.MultivariateNormal(mean_A, cov_A)
dist_B = torch.distributions.MultivariateNormal(mean_B, cov_B)

samples_A = dist_A.sample((1000,))
samples_B = dist_B.sample((1000,))

# Stack samples from both distributions
samples = torch.cat((samples_A, samples_B))

# Plot the samples
plt.scatter(samples_A[:, 0], samples_A[:, 1], label='Distribution A', alpha=0.5)
plt.scatter(samples_B[:, 0], samples_B[:, 1], label='Distribution B', alpha=0.5)
plt.legend()
plt.title("Bivariate Normal Distribution")
plt.show()
